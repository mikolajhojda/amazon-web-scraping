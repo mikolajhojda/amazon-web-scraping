{
 "cells": [
  {
   "cell_type": "code",
   "execution_count": 20,
   "id": "4324487e",
   "metadata": {},
   "outputs": [],
   "source": [
    "import csv\n",
    "from bs4 import BeautifulSoup\n",
    "from deep_translator import GoogleTranslator"
   ]
  },
  {
   "cell_type": "code",
   "execution_count": 21,
   "id": "68af75ad",
   "metadata": {},
   "outputs": [],
   "source": [
    "from selenium import webdriver"
   ]
  },
  {
   "cell_type": "code",
   "execution_count": 22,
   "id": "e45cd04b",
   "metadata": {},
   "outputs": [],
   "source": [
    "driver = webdriver.Chrome()"
   ]
  },
  {
   "cell_type": "code",
   "execution_count": 23,
   "id": "743b7d40",
   "metadata": {},
   "outputs": [],
   "source": [
    "url = 'https://amazon.de'\n",
    "driver.get(url)"
   ]
  },
  {
   "cell_type": "code",
   "execution_count": 24,
   "id": "541df02a",
   "metadata": {},
   "outputs": [],
   "source": [
    "def get_url(search_term):\n",
    "    template = 'https://www.amazon.de/s?k={}&language=de_DE&ref=nb_sb_noss_1'\n",
    "    search_term = search_term.replace(' ','+')\n",
    "    return template.format(search_term)"
   ]
  },
  {
   "cell_type": "code",
   "execution_count": 25,
   "id": "2915a062",
   "metadata": {},
   "outputs": [
    {
     "name": "stdout",
     "output_type": "stream",
     "text": [
      "https://www.amazon.de/s?k=möbelzubehör+metall&language=de_DE&ref=nb_sb_noss_1\n"
     ]
    }
   ],
   "source": [
    "print(get_url('möbelzubehör metall'))"
   ]
  },
  {
   "cell_type": "markdown",
   "id": "6b97a2c7",
   "metadata": {},
   "source": [
    "## Creating soup"
   ]
  },
  {
   "cell_type": "code",
   "execution_count": 26,
   "id": "3ac97d26",
   "metadata": {},
   "outputs": [
    {
     "name": "stdout",
     "output_type": "stream",
     "text": [
      "<div class=\"sg-col-4-of-12 s-result-item s-asin sg-col-4-of-16 AdHolder sg-col s-widget-spacing-small sg-col-4-of-20\" data-asin=\"B09HH4DWL1\" data-component-id=\"24\" data-component-type=\"s-search-result\" data-index=\"1\" data-uuid=\"fcc10c71-80e1-4f99-82a8-71cf168a557d\"><div class=\"sg-col-inner\">\n",
      "<div cel_widget_id=\"MAIN-SEARCH_RESULTS-1\" class=\"s-widget-container s-spacing-small s-widget-container-height-small celwidget slot=MAIN template=SEARCH_RESULTS widgetId=search-results_1\">\n",
      "<div class=\"rush-component s-expand-height\" data-component-id=\"25\" data-component-props='{\"percentageShownToFire\":\"50\",\"batchable\":true,\"requiredElementSelector\":\".s-image:visible\",\"url\":\"https://unagi-eu.amazon.com/1/events/com.amazon.eel.SponsoredProductsEventTracking.prod?qualifier=1646240501&amp;id=3176002533127445&amp;widgetName=sp_atf&amp;adId=20090906929404&amp;eventType=1&amp;adIndex=0\"}' data-component-type=\"s-impression-logger\">\n",
      "<div class=\"rush-component s-featured-result-item s-expand-height\" data-component-id=\"1\" data-component-props='{\"presenceCounterName\":\"sp_delivered\",\"testElementSelector\":\".s-image\",\"hiddenCounterName\":\"sp_hidden\"}' data-component-type=\"s-impression-counter\">\n",
      "<div class=\"s-card-container s-overflow-hidden aok-relative s-expand-height s-include-content-margin s-latency-cf-section s-card-border\"><div class=\"a-section a-spacing-base\"><div class=\"s-product-image-container aok-relative s-image-overlay-grey s-text-center s-padding-left-small s-padding-right-small s-spacing-small s-height-equalized\" style=\"padding-top: 0px !important;\"><span class=\"rush-component\" data-component-type=\"s-product-image\"><a class=\"a-link-normal s-no-outline\" href=\"/gp/slredirect/picassoRedirect.html/ref=pa_sp_atf_aps_sr_pg1_1?ie=UTF8&amp;adId=A05849722M91LDTW38IGD&amp;url=%2FSHEENO-Metalldreieck-Tischbeine-Couchtisch-Schrauben%2Fdp%2FB09HH4DWL1%2Fref%3Dsr_1_1_sspa%3Fkeywords%3Dm%25C3%25B6belzubeh%25C3%25B6r%2Bmetall%26qid%3D1646240501%26sr%3D8-1-spons%26psc%3D1&amp;qualifier=1646240501&amp;id=3176002533127445&amp;widgetName=sp_atf\"><div class=\"a-section aok-relative s-image-square-aspect\"><img alt=\"Gesponserte Anzeige – SHEENO 4 Stück Metalldreieck Möbel Füße,4 inch 10cm Möbel Tischbeine,Füße für Sofas und Sessel,Ersat...\" class=\"s-image\" data-image-index=\"1\" data-image-latency=\"s-product-image\" data-image-load=\"\" data-image-source-density=\"1\" src=\"https://m.media-amazon.com/images/I/61DGvpy2mAL._AC_UL320_.jpg\" srcset=\"https://m.media-amazon.com/images/I/61DGvpy2mAL._AC_UL320_.jpg 1x, https://m.media-amazon.com/images/I/61DGvpy2mAL._AC_UL480_FMwebp_QL65_.jpg 1.5x, https://m.media-amazon.com/images/I/61DGvpy2mAL._AC_UL640_FMwebp_QL65_.jpg 2x, https://m.media-amazon.com/images/I/61DGvpy2mAL._AC_UL800_FMwebp_QL65_.jpg 2.5x, https://m.media-amazon.com/images/I/61DGvpy2mAL._AC_UL960_FMwebp_QL65_.jpg 3x\"/></div></a></span></div><div class=\"a-section a-spacing-small s-padding-left-small s-padding-right-small\"><div class=\"a-section a-spacing-none a-spacing-top-small s-title-instructions-style\"><div class=\"a-row a-spacing-micro\"><span class=\"a-declarative\" data-a-popover='{\"closeButton\":\"true\",\"dataStrategy\":\"preload\",\"name\":\"sp-info-popover-B09HH4DWL1\",\"position\":\"triggerVertical\"}' data-action=\"a-popover\" data-csa-c-func-deps=\"aui-da-a-popover\" data-csa-c-type=\"widget\"><a aria-label=\"Informationen zu gesponserten Anzeigen einsehen oder Anzeigenfeedback abgeben\" class=\"s-label-popover s-sponsored-label-text\" href=\"javascript:void(0)\" role=\"button\" style=\"text-decoration: none;\"><span class=\"s-label-popover-default\"><span class=\"a-color-secondary\">Gesponsert</span></span><span class=\"s-label-popover-hover\"><span class=\"a-color-base\">Gesponsert</span></span> <span class=\"aok-inline-block s-sponsored-label-info-icon\"></span></a></span><div class=\"a-popover-preload\" id=\"a-popover-sp-info-popover-B09HH4DWL1\"><span>Diese Anzeige wird Ihnen aufgrund der Relevanz des Produkts für Ihre Suchanfrage angezeigt.</span><div class=\"a-row\"><span class=\"a-declarative\" data-action=\"s-safe-ajax-modal-trigger\" data-csa-c-func-deps=\"aui-da-s-safe-ajax-modal-trigger\" data-csa-c-type=\"widget\" data-s-safe-ajax-modal-trigger='{\"ajaxUrl\":\"/af/sp-loom/feedback-form?pl=%7B%22adPlacementMetaData%22%3A%7B%22searchTerms%22%3A%22bcO2YmVsenViZWjDtnIgbWV0YWxs%22%2C%22pageType%22%3A%22Search%22%2C%22feedbackType%22%3A%22sponsoredProductsLoom%22%2C%22slotName%22%3A%22TOP%22%7D%2C%22adCreativeMetaData%22%3A%7B%22adProgramId%22%3A1024%2C%22adCreativeDetails%22%3A%5B%7B%22asin%22%3A%22B09HH4DWL1%22%2C%22title%22%3A%22SHEENO+4+St%C3%BCck+Metalldreieck+M%C3%B6bel+F%C3%BC%C3%9Fe%2C4+inch+10cm+M%C3%B6bel+Tischbeine%2CF%C3%BC%C3%9Fe+f%C3%BCr+Sofas+und+Sessel%2CErsat%22%2C%22priceInfo%22%3A%7B%22amount%22%3A16.99%2C%22currencyCode%22%3A%22EUR%22%7D%2C%22sku%22%3A%22SM-FET029%22%2C%22adId%22%3A%22A05849722M91LDTW38IGD%22%2C%22campaignId%22%3A%22A09826451CUZK9W3SH4RG%22%7D%5D%7D%7D\",\"dataStrategy\":\"ajax\",\"header\":\"Feedback mitteilen\"}'><a class=\"a-link-normal s-underline-text s-underline-link-text s-link-style\" href=\"#\"><span>Teilen Sie uns Ihr Feedback mit.</span> </a> </span></div></div></div><h2 class=\"a-size-mini a-spacing-none a-color-base s-line-clamp-4\"><a class=\"a-link-normal s-underline-text s-underline-link-text s-link-style a-text-normal\" href=\"/gp/slredirect/picassoRedirect.html/ref=pa_sp_atf_aps_sr_pg1_1?ie=UTF8&amp;adId=A05849722M91LDTW38IGD&amp;url=%2FSHEENO-Metalldreieck-Tischbeine-Couchtisch-Schrauben%2Fdp%2FB09HH4DWL1%2Fref%3Dsr_1_1_sspa%3Fkeywords%3Dm%25C3%25B6belzubeh%25C3%25B6r%2Bmetall%26qid%3D1646240501%26sr%3D8-1-spons%26psc%3D1&amp;qualifier=1646240501&amp;id=3176002533127445&amp;widgetName=sp_atf\"><span class=\"a-size-base-plus a-color-base a-text-normal\">SHEENO 4 Stück Metalldreieck Möbel Füße,4 inch 10cm Möbel Tischbeine,Füße für Sofas und Sessel,Ersatz Dreieck Schrank Füße für Schrank, Sofa, Stuhl, Couchtisch mit Schrauben</span> </a> </h2></div><div class=\"a-section a-spacing-none a-spacing-top-micro\"><div class=\"a-row a-size-small\"><span aria-label=\"1,0 von 5 Sternen\"><span class=\"a-declarative\" data-a-popover='{\"closeButton\":false,\"closeButtonLabel\":\"\",\"position\":\"triggerBottom\",\"popoverLabel\":\"\",\"url\":\"/review/widgets/average-customer-review/popover/ref=acr_search__popover?ie=UTF8&amp;asin=B09HH4DWL1&amp;ref=acr_search__popover&amp;contextId=search\"}' data-action=\"a-popover\" data-csa-c-func-deps=\"aui-da-a-popover\" data-csa-c-type=\"widget\"><a class=\"a-popover-trigger a-declarative\" href=\"javascript:void(0)\" role=\"button\"><i class=\"a-icon a-icon-star-small a-star-small-1 aok-align-bottom\"><span class=\"a-icon-alt\">1,0 von 5 Sternen</span></i><i class=\"a-icon a-icon-popover\"></i></a></span> </span><span aria-label=\"1\"><a class=\"a-link-normal s-underline-text s-underline-link-text s-link-style\" href=\"/gp/slredirect/picassoRedirect.html/ref=pa_sp_atf_aps_sr_pg1_1?ie=UTF8&amp;adId=A05849722M91LDTW38IGD&amp;url=%2FSHEENO-Metalldreieck-Tischbeine-Couchtisch-Schrauben%2Fdp%2FB09HH4DWL1%2Fref%3Dsr_1_1_sspa%3Fkeywords%3Dm%25C3%25B6belzubeh%25C3%25B6r%2Bmetall%26qid%3D1646240501%26sr%3D8-1-spons%26psc%3D1&amp;qualifier=1646240501&amp;id=3176002533127445&amp;widgetName=sp_atf#customerReviews\"><span class=\"a-size-base s-underline-text\">1</span> </a> </span></div></div><div class=\"a-section a-spacing-none a-spacing-top-small s-price-instructions-style\"><div class=\"a-row a-size-base a-color-base\"><a class=\"a-size-base a-link-normal s-underline-text s-underline-link-text s-link-style a-text-normal\" href=\"/gp/slredirect/picassoRedirect.html/ref=pa_sp_atf_aps_sr_pg1_1?ie=UTF8&amp;adId=A05849722M91LDTW38IGD&amp;url=%2FSHEENO-Metalldreieck-Tischbeine-Couchtisch-Schrauben%2Fdp%2FB09HH4DWL1%2Fref%3Dsr_1_1_sspa%3Fkeywords%3Dm%25C3%25B6belzubeh%25C3%25B6r%2Bmetall%26qid%3D1646240501%26sr%3D8-1-spons%26psc%3D1&amp;qualifier=1646240501&amp;id=3176002533127445&amp;widgetName=sp_atf\"><span class=\"a-price\" data-a-color=\"base\" data-a-size=\"l\"><span class=\"a-offscreen\">16,49 €</span><span aria-hidden=\"true\"><span class=\"a-price-whole\">16,49</span><span class=\"a-price-symbol\">€</span></span></span> </a> </div></div><div class=\"a-section a-spacing-none a-spacing-top-micro\"><div class=\"a-row a-size-base a-color-secondary s-align-children-center\"><span class=\"a-size-small a-color-base\">Für Versand nach Polen qualifiziert</span></div></div></div></div></div>\n",
      "</div>\n",
      "</div>\n",
      "</div>\n",
      "</div></div>\n"
     ]
    }
   ],
   "source": [
    "url = get_url('möbelzubehör metall')\n",
    "driver.get(url)\n",
    "soup = BeautifulSoup(driver.page_source, 'html.parser')\n",
    "results = soup.find_all('div', {'data-component-type': 's-search-result'})\n",
    "print(results[0])"
   ]
  },
  {
   "cell_type": "markdown",
   "id": "818a8c45",
   "metadata": {},
   "source": [
    "## Getting data"
   ]
  },
  {
   "cell_type": "code",
   "execution_count": 8,
   "id": "9430cc19",
   "metadata": {},
   "outputs": [
    {
     "name": "stdout",
     "output_type": "stream",
     "text": [
      "4 Stück Möbelfüße, Möbelfüsse aus Edelstahl 304, Für Schrankfüße Bett Beine/Sofa Beine/Tischbeine, Verwenden Sie M8-Schrauben, Unterstützung über 600 kg. (7.8cm)\n"
     ]
    }
   ],
   "source": [
    "item = results[0]\n",
    "atag = item.h2.a\n",
    "description = atag.text.strip()\n",
    "print(description)"
   ]
  },
  {
   "cell_type": "code",
   "execution_count": 9,
   "id": "113bfee6",
   "metadata": {},
   "outputs": [],
   "source": [
    "url = 'https://amazon.de' + atag.get('href')"
   ]
  },
  {
   "cell_type": "code",
   "execution_count": 10,
   "id": "044179bd",
   "metadata": {},
   "outputs": [
    {
     "name": "stdout",
     "output_type": "stream",
     "text": [
      "<span class=\"a-price\" data-a-color=\"base\" data-a-size=\"l\"><span class=\"a-offscreen\">29,99 €</span><span aria-hidden=\"true\"><span class=\"a-price-whole\">29,99</span><span class=\"a-price-symbol\">€</span></span></span>\n"
     ]
    }
   ],
   "source": [
    "price_parent = item.find('span', 'a-price')\n",
    "print(price_parent)"
   ]
  },
  {
   "cell_type": "code",
   "execution_count": 11,
   "id": "40128ec8",
   "metadata": {},
   "outputs": [
    {
     "name": "stdout",
     "output_type": "stream",
     "text": [
      "29.99 \n"
     ]
    }
   ],
   "source": [
    "price = price_parent.find('span','a-offscreen').text\n",
    "price = price.replace('€','')\n",
    "price = price.replace(',','.')\n",
    "price = price.strip(' ')\n",
    "print(price)"
   ]
  },
  {
   "cell_type": "code",
   "execution_count": 12,
   "id": "a3972529",
   "metadata": {},
   "outputs": [
    {
     "name": "stdout",
     "output_type": "stream",
     "text": [
      "4.6\n"
     ]
    }
   ],
   "source": [
    "rating = item.i.text\n",
    "rating = rating.replace(' von 5 Sternen', '')\n",
    "rating = rating.replace(',', '.')\n",
    "print(rating)"
   ]
  },
  {
   "cell_type": "code",
   "execution_count": 13,
   "id": "0f6551c9",
   "metadata": {},
   "outputs": [
    {
     "name": "stdout",
     "output_type": "stream",
     "text": [
      "50\n"
     ]
    }
   ],
   "source": [
    "review_count = item.find('span',{'class':'a-size-base s-underline-text'}).text\n",
    "print(review_count)"
   ]
  },
  {
   "cell_type": "markdown",
   "id": "c2fc9042",
   "metadata": {},
   "source": [
    "## Generalize the pattern"
   ]
  },
  {
   "cell_type": "code",
   "execution_count": 19,
   "id": "202993ad",
   "metadata": {},
   "outputs": [],
   "source": [
    "def extract_record(item):\n",
    "    atag = item.h2.a\n",
    "    description = atag.text.strip()\n",
    "    to_translate = description\n",
    "    translation = GoogleTranslator(source='de', target='pl').translate(to_translate)\n",
    "    url = 'https://amazon.de' + atag.get('href')\n",
    "    \n",
    "    try:\n",
    "        price_parent = item.find('span', 'a-price')\n",
    "        price = price_parent.find('span','a-offscreen').text\n",
    "        price = price.replace('€','')\n",
    "        price = price.replace(',','.')\n",
    "        price = price.strip(' ')\n",
    "    except AttributeError:\n",
    "        return\n",
    "    \n",
    "    try:\n",
    "        rating = item.i.text\n",
    "        rating = rating.replace(' von 5 Sternen', '')\n",
    "        rating = rating.replace(',', '.')\n",
    "        review_count = item.find('span',{'class':'a-size-base s-underline-text'}).text\n",
    "    except AttributeError:\n",
    "        rating=''\n",
    "        review_count=''\n",
    "    \n",
    "    result = (description, translation, price, rating, review_count, url)\n",
    "    \n",
    "    return result"
   ]
  },
  {
   "cell_type": "code",
   "execution_count": 15,
   "id": "76553cf7",
   "metadata": {},
   "outputs": [
    {
     "name": "stdout",
     "output_type": "stream",
     "text": [
      "[('4 Stück Möbelfüße, Möbelfüsse aus Edelstahl 304, Für Schrankfüße Bett Beine/Sofa Beine/Tischbeine, Verwenden Sie M8-Schrauben, Unterstützung über 600 kg. (7.8cm)', '4-częściowe nóżki meblowe, 304 nóżki meblowe ze stali nierdzewnej, do nóżek szafki nogi łóżka/nogi sofy/nogi stołu, użyj śrub M8, wsparcie ponad 600 kg. (7,8cm)', '29.99\\xa0', '4.6', '50', 'https://amazon.de/gp/slredirect/picassoRedirect.html/ref=pa_sp_atf_aps_sr_pg1_1?ie=UTF8&adId=A02632421WPOZIXV36LYZ&url=%2FCXPDC-M%25C3%25B6belf%25C3%25BC%25C3%259Fe-M%25C3%25B6belbeine-h%25C3%25B6henverstellbare-Bolzenunterst%25C3%25BCtzungskraft%2Fdp%2FB07V4Y3T1C%2Fref%3Dsr_1_1_sspa%3Fkeywords%3Dm%25C3%25B6belzubeh%25C3%25B6r%2Bmetall%26qid%3D1646240355%26sr%3D8-1-spons%26psc%3D1&qualifier=1646240355&id=2154051067851759&widgetName=sp_atf'), ('4 Stück Ersatz Möbelfüße Einstellbare Aluminiumlegierung 10cm Metallfüße Schwarz Schrankfüsse Möbelfüsse, Metallfuß für Bett Sofa Füße und Tischbeine Schrankfüße Tischbeine. (10cm, Black)', '4 szt. Wymienne nóżki meblowe Regulowane stopy aluminiowe 10 cm metalowe nóżki czarne nóżki do szafek nóżki do mebli, metalowe nóżki do łóżka nóżki sofy i nogi do stołu nóżki do szafki nogi do stołu. (10cm, czarny)', '17.99\\xa0', '4.4', '17', 'https://amazon.de/gp/slredirect/picassoRedirect.html/ref=pa_sp_atf_aps_sr_pg1_1?ie=UTF8&adId=A08231251DX3C5681TSXB&url=%2FEinstellbare-Aluminiumlegierung-Schrankf%25C3%25BCsse-Schrankf%25C3%25BC%25C3%259Fe-Tischbeine%2Fdp%2FB095HLMGZF%2Fref%3Dsr_1_2_sspa%3Fkeywords%3Dm%25C3%25B6belzubeh%25C3%25B6r%2Bmetall%26qid%3D1646240355%26sr%3D8-2-spons%26psc%3D1%26smid%3DA2OLCMS1HOY6E7&qualifier=1646240355&id=2154051067851759&widgetName=sp_atf'), ('Drenky 4 Stück Schräge Tischbeine, Metallschrankbeine, Kegel Möbelbeine, 201 Edelstahl, Golden, 40 cm Höhe, No-Slip Silent Base Platzierung für Sofas, Tische und andere Möbelbeine', 'Drenky 4-pak skośne nogi stołowe, metalowe nogi szafki, stożkowe nogi meblowe, stal nierdzewna 201, złota, wysokość 40 cm, antypoślizgowa cicha podstawa do sof, stołów i innych nóg meblowych', '54.99\\xa0', '4.4', '277', 'https://amazon.de/gp/slredirect/picassoRedirect.html/ref=pa_sp_atf_aps_sr_pg1_1?ie=UTF8&adId=A05469822OTF82S38T37Y&url=%2FDrenky-Tischbeine-Metallschrankbeine-M%25C3%25B6belbeine-Platzierung%2Fdp%2FB08LPFWR2T%2Fref%3Dsr_1_3_sspa%3Fkeywords%3Dm%25C3%25B6belzubeh%25C3%25B6r%2Bmetall%26qid%3D1646240355%26sr%3D8-3-spons%26psc%3D1&qualifier=1646240355&id=2154051067851759&widgetName=sp_atf'), ('ToPicks Möbelfüße Verstellbar Metall, Tischbeine Edelstahl, MöbelfußeHöhenverstellbar Runde Stahlrohrfüße Belastbar Schwarz, 6 cm 4 Stük mit Schrauben', 'ToPicks nóżki meblowe regulowane metalowe, nogi stołowe ze stali nierdzewnej, nóżki meblowe z regulacją wysokości okrągłe stalowe nóżki rurowe sprężyste czarne, 6 cm 4 sztuki ze śrubami', '13.99\\xa0', '4.4', '122', 'https://amazon.de/gp/slredirect/picassoRedirect.html/ref=pa_sp_atf_aps_sr_pg1_1?ie=UTF8&adId=A09004922HBDBVXGK2LWI&url=%2FToPicks-Verstellbar-Tischbeine-H%25C3%25B6henverstellbar-Stahlrohrf%25C3%25BC%25C3%259Fe%2Fdp%2FB093STLKF3%2Fref%3Dsr_1_4_sspa%3Fkeywords%3Dm%25C3%25B6belzubeh%25C3%25B6r%2Bmetall%26qid%3D1646240355%26sr%3D8-4-spons%26psc%3D1%26smid%3DA2F82R9MFVPN1I&qualifier=1646240355&id=2154051067851759&widgetName=sp_atf'), ('DELSEN M8 Verstellbare füße für Möbel Nivellierfüße mit Einschlagmuttern Metall Edelstahl Möbelgleiter für Möbel Sofa Tisch Stuhlbeine', 'DELSEN M8 regulowane nóżki do mebli nóżki poziomujące z nakrętkami wbijanymi metalowe prowadnice meblowe ze stali nierdzewnej do mebli sofa stół nogi do krzeseł', '13.99\\xa0', '4.0', '27', 'https://amazon.de/DELSEN-Verstellbare-Nivellierf%C3%BC%C3%9Fe-Einschlagmuttern-M%C3%B6belgleiter/dp/B08MW3RSZ5/ref=sr_1_5?keywords=m%C3%B6belzubeh%C3%B6r+metall&qid=1646240355&sr=8-5'), ('Relaxdays Tischkufen 2er Set, BxH: 40x43 cm, Metall Tischbeine Schreibtisch, Esstisch, Couchtisch, Industrial, schwarz, 40 x 43 cm', 'bieżniki Relaxdays, 2 sztuki, szer. x wys.: 40x43 cm, metalowe nogi stołu, biurko, stół jadalny, stolik kawowy, industrialny, czarny, 40 x 43 cm', '74.62\\xa0', '3.6', '11', 'https://amazon.de/Relaxdays-Tischkufen-2er-Set-BxH/dp/B08X4WH4M5/ref=sr_1_6?keywords=m%C3%B6belzubeh%C3%B6r+metall&qid=1646240355&sr=8-6'), ('Baven 24 Stück 25MM Antike Möbel-Ecken Kantenschutz Metall Beschläge Antik Vintage-Stil Eckenschutz Metall für Möbel, Schmuckbox, Geschenkbox, Schrank, Inklusive Schrauben', 'Baven 24 szt. 25MM Zabytkowe narożniki meblowe Okucia metalowe Antyczny styl Vintage Metalowe narożniki ochronne do mebli, szkatułki na biżuterię, pudełka na prezenty, szafki, śrub w zestawie', '6.99\\xa0', '5.0', '6', 'https://amazon.de/Baven-M%C3%B6bel-Ecken-Kantenschutz-Vintage-Stil-Eckenschutz/dp/B093787Z6T/ref=sr_1_7?keywords=m%C3%B6belzubeh%C3%B6r+metall&qid=1646240355&sr=8-7'), ('Fahibin Antike Eckschutz, Möbelecken Schutz Metall mit Nägel, Kantenschutz Möbelstück Beschläge Antik Truhe für Möbel Kisten Regal', 'Antyczna ochrona narożników Fahibin, metalowa ochrona narożników mebli z gwoździami, zabezpieczenie krawędzi okucia meblowego antyczna skrzynia na półki na meble', '7.99\\xa0', '4.7', '4', 'https://amazon.de/Fahibin-Eckschutz-M%C3%B6belecken-Kantenschutz-M%C3%B6belst%C3%BCck/dp/B08Y1V6PKJ/ref=sr_1_8?keywords=m%C3%B6belzubeh%C3%B6r+metall&qid=1646240355&sr=8-8'), ('JUNMEIDO 4 stück Möbelfüße Verstellbar Stützfüße Höhenverstellbar Sockelfuß Metall Regalfüße Schwarz für TV-Ständer, Möbelsofa, Stützbeine für Badezimmerschränke', 'JUNMEIDO 4 szt. Nóżki meblowe Regulowane nóżki wsporcze Regulowana wysokość nóżki cokołu Metalowe nóżki do półek Czarne na stojak pod telewizor, sofę meblową, wsporniki szafek łazienkowych', '14.99\\xa0', '2.0', '2', 'https://amazon.de/JUNMEIDO-Verstellbar-H%C3%B6henverstellbar-TV-St%C3%A4nder-Badezimmerschr%C3%A4nke/dp/B09H44Q8WY/ref=sr_1_10?keywords=m%C3%B6belzubeh%C3%B6r+metall&qid=1646240355&sr=8-10'), ('ECD Germany 2X Tischbeine X-Design X-Form, 60 x 72 cm, Dunkelgrau, pulverbeschichtete Stahl, Industriedesign, Metall Tischkufen Tischuntergestell Tischgestell Möbelfüße, für Esstisch Schreibtisch', 'ECD Germany 2x nogi stołu X-Design X-shape, 60 x 72 cm, ciemnoszary, stal malowana proszkowo, wzornictwo przemysłowe, metalowe bieżniki podstawa stołu rama stołu nóżki meblowe, do stołu jadalnego biurko', '90.99\\xa0', '3.6', '28', 'https://amazon.de/ECD-Germany-pulverbeschichtete-Industriedesign-Tischuntergestell/dp/B09P1T6HQV/ref=sr_1_11?keywords=m%C3%B6belzubeh%C3%B6r+metall&qid=1646240355&sr=8-11'), ('7\" / 17.5cm Metall Möbelfüße, La Vane 4 Stück Metall Diamant Dreieck Tischbeine Schrankfüße DIY Ersatz für Schrank Sofa Couch Regal Ottomane', '7 \"/17.5 cm metalowe nóżki do mebli, La Vane 4 szt. Metalowe diamentowe trójkątne nogi do stołu nóżki do szafki DIY zamiennik do szafki Sofa półka na kanapę Ottoman', '26.00\\xa0', '4.4', '2.225', 'https://amazon.de/M%C3%B6belf%C3%BC%C3%9Fe-Vane-Tischbeine-Schrankf%C3%BC%C3%9Fe-Ottomane/dp/B08J43YVDW/ref=sr_1_12?keywords=m%C3%B6belzubeh%C3%B6r+metall&qid=1646240355&sr=8-12'), ('Ezprotekt Möbelsocken, 24er-Pack, Gestrickte Möbelfüße, Stuhlbeinschoner, Stuhlbeine, rutschfeste Möbelschuhe, Vermeiden Kratzer und Lärm, Passend für Stuhlbeine von 1 bis 2 Zoll,Khaki', 'Skarpety meblowe Ezprotekt, 24 sztuki, dziane nóżki meblowe, ochraniacze na nogi krzeseł, nogi krzeseł, antypoślizgowe buty meblowe, unikanie zadrapań i hałasu, pasuje do nóg krzeseł 1-2 cale, khaki', '18.99\\xa0', '4.6', '1.283', 'https://amazon.de/Ezprotekt-M%C3%B6belsocken-Stuhlbeinschoner-Rutschfeste-M%C3%B6belschuhe/dp/B07ZPRJMW5/ref=sr_1_13?keywords=m%C3%B6belzubeh%C3%B6r+metall&qid=1646240355&sr=8-13'), ('Tischkufen Metall Tischgestell Schwarz Industriedesign 2 Stück Tischbeine Möbelfüße zum DIY Esstisch Schreibtisch Couchtisch Bank', 'Bieżniki metalowa rama stołu czarny design przemysłowy 2 sztuka nogi stołu nóżki do mebli dla majsterkowiczów stół jadalny biurko stolik ławka', '139.99\\xa0', '4.5', '34', 'https://amazon.de/Tischkufen-Tischgestell-Industriedesign-Tischbeine-Schreibtisch/dp/B0967KMCVH/ref=sr_1_14?keywords=m%C3%B6belzubeh%C3%B6r+metall&qid=1646240355&sr=8-14'), ('2x Ariana Home - Tischkufen - Tischbeine Tischgestell Möbelfüße aus Metall - (Couchtisch Esstisch Schreibtisch Wohnzimmertisch & andere Möbel) - 70x72 Schwarz', '2x Ariana Home - bieżniki - nogi stołu rama stołu nóżki meblowe wykonane z metalu - (stolik kawowy stół jadalny biurko stół do salonu i inne meble) - 70x72 czarny', '79.88\\xa0', '4.4', '9', 'https://amazon.de/Ariana-Home-Tischgestell-Schreibtisch-Wohnzimmertisch/dp/B09MWP57GN/ref=sr_1_15?keywords=m%C3%B6belzubeh%C3%B6r+metall&qid=1646240355&sr=8-15'), ('Gedotec Möbelfuß LISA verstellbar Sockelfuß Metall Verstellfüße aus Stahl | Höhe 100 mm | Sofa-Fuß mit Höheneinstellung + 20 mm | Chrom poliert | 4er Set - Kommoden-Füße höhenvestellbar mit Platte', 'Stopka meblowa Gedotec LISA stopka regulowana metalowa stopka regulowana ze stali | Wysokość 100mm | Nóżka sofy z regulacją wysokości + 20 mm | polerowany chrom | Zestaw 4 - Nóżki do komody o regulowanej wysokości z płytą', '13.50\\xa0', '4.7', '42', 'https://amazon.de/verstellbar-Verstellf%C3%BC%C3%9Fe-H%C3%B6heneinstellung-Markenqualit%C3%A4t-Wohnbereich/dp/B01IRP2LP6/ref=sr_1_17?keywords=m%C3%B6belzubeh%C3%B6r+metall&qid=1646240355&sr=8-17'), ('8 Stück Stainless Höhenverstellbare Füße Verstellbare Stützfüße für Möbel Möbelfüße Verstellbar Metall Metall 5cm Rund Edelstahl Gebürstet Möbelfüße Kommen Mit Edelstahlschrauben für Möbel Projekt', '8 szt. Regulowane nóżki ze stali nierdzewnej Regulowane nóżki do mebli nóżki meblowe Regulowane metalowe metalowe 5cm okrągłe, szczotkowane nóżki meblowe ze stali nierdzewnej dostarczane ze śrubami ze stali nierdzewnej do mebli', '20.99\\xa0', '5.0', '1', 'https://amazon.de/Stainless-H%C3%B6henverstellbare-Verstellbare-Verstellbar-Edelstahlschrauben/dp/B09FPY7KCP/ref=sr_1_18?keywords=m%C3%B6belzubeh%C3%B6r+metall&qid=1646240355&sr=8-18'), ('Tischkufen Tischbeine Tischgestell Metall Tischfüße Handgemacht 40 x 20 mm aus Metall 1 Stck. (40 x 43 cm #E07254)', 'Bieżniki Nogi do stołu Stelaż do stołu Metal Stopy do stołu Ręcznie wykonane 40 x 20 mm z metalu 1 sztuka. (40x43cm #E07254)', '35.99\\xa0', '', '', 'https://amazon.de/Tischkufen-Tischbeine-Tischgestell-Tischf%C3%BC%C3%9Fe-Handgemacht/dp/B09BJV6M8D/ref=sr_1_19?keywords=m%C3%B6belzubeh%C3%B6r+metall&qid=1646240355&sr=8-19'), ('6 Stück Möbelfüße, verstellbare Schwarze Schrankfüße, Metall Tischbeine, Sofabeine für Bett Sofa Tischschrank füße Beine, 92mm', '6 sztuk nóżki meblowe, regulowane czarne nóżki do szafki, metalowe nogi do stołu, nogi sofy do łóżka, rozkładane nóżki do szafki, 92mm', '12.99\\xa0', '', '', 'https://amazon.de/M%C3%B6belf%C3%BC%C3%9Fe-verstellbare-Schrankf%C3%BC%C3%9Fe-Tischbeine-Tischschrank/dp/B09NPX6Z62/ref=sr_1_20?keywords=m%C3%B6belzubeh%C3%B6r+metall&qid=1646240355&sr=8-20'), ('LIKERAINY Metall Beine Tischbeine Möbelfüße 50mm für Schränke Möbel Küche Füße Arbeitsplatte Schreibtisch Frühstück Sofa Bar Schreibtischfüße Silber 4er Set', 'LIKERAINY nogi metalowe nogi stołu nóżki do mebli 50mm do mebli szafek nóżki kuchenne blat biurko śniadanie Sofa Bar biurko nóżki srebrny zestaw 4', '15.99\\xa0', '4.0', '11', 'https://amazon.de/LIKERAINY-Tischbeine-Arbeitsplatte-Schreibtisch-Schreibtischf%C3%BC%C3%9Fe/dp/B091F81ZZJ/ref=sr_1_21?keywords=m%C3%B6belzubeh%C3%B6r+metall&qid=1646240355&sr=8-21'), ('4 Stück Möbelfüße,10 cm Höhe,Schräg Konisch Möbelfüße, DIY Möbel Tischbeine ,Metall Sofafuss mit Kunststoffgummikopf, für Couchtisch, Esstisch, Schreibtisch, Nachttisch (Schwarz)', '4 sztuki nóżek meblowych, wysokość 10 cm, skośne stożkowe nóżki meblowe, nóżki do mebli DIY, metalowe nóżki do sofy z plastikową gumową główką, na stolik kawowy, stół jadalny, biurko, stolik nocny (czarny)', '14.95\\xa0', '4.2', '12', 'https://amazon.de/Tischbeine-Kunststoffgummikopf-Couchtisch-Schreibtisch-Nachttisch/dp/B0922LC7H1/ref=sr_1_22?keywords=m%C3%B6belzubeh%C3%B6r+metall&qid=1646240355&sr=8-22'), ('Dylan-EU 6 Stücke Antik Löwe Schrankgriff mit Schrauben Retro Möbelknöpfe Metall Schubladenknopf Möbelzubehör für KommodeTür Schrank Möbel - Rote Bronze Einlochgriff', 'Dylan-EU 6 sztuk Antyczne lewe uchwyty do szafek ze śrubami Retro gałki meblowe Metalowa gałka do szuflady Akcesoria meblowe do drzwi komody Meble szafki - czerwony brązowy uchwyt z pojedynczym otworem', '8.99\\xa0', '4.6', '73', 'https://amazon.de/Schrankgriff-M%C3%B6belkn%C3%B6pfe-Schubladenknopf-M%C3%B6belzubeh%C3%B6r-KommodeT%C3%BCr/dp/B08FHTNKJ9/ref=sr_1_23?keywords=m%C3%B6belzubeh%C3%B6r+metall&qid=1646240355&sr=8-23'), ('EINFEBEN Hairpin Legs 3-Stange tischbeine Metall schwarz Tischkufen Haarnadel Tischbein 12 mm, Hairpin Legs aus Stahl, 4 Stück Bein, 35 cm', 'EINFEBEN Nogi do spinek do włosów 3-drążkowe nogi stołowe metalowe czarne bieżniki spinka do włosów noga stołu 12 mm, nogi spinki do włosów wykonane ze stali, noga sztuk 4, 35 cm', '26.99\\xa0', '4.6', '16', 'https://amazon.de/EINFEBEN-tischbeine-Tischkufen-Haarnadel-Tischbein/dp/B09BQ94NZH/ref=sr_1_24?keywords=m%C3%B6belzubeh%C3%B6r+metall&qid=1646240355&sr=8-24'), ('Qrity 120mm Höhe Möbel Beine Schrankfüße Aluminiumlegierung Küchenfüße Sofa Füße Metall Tischbeine Schwarz', 'Qrity 120mm wysokość nóżki do mebli nóżki do szafki nóżki kuchenne ze stopu aluminium nóżki sofy metalowe nogi stołowe czarne', '19.99\\xa0', '4.1', '26', 'https://amazon.de/Qrity-Schrankf%C3%BC%C3%9Fe-Aluminiumlegierung-K%C3%BCchenf%C3%BC%C3%9Fe-Tischbeine/dp/B09J8JT9KV/ref=sr_1_25?keywords=m%C3%B6belzubeh%C3%B6r+metall&qid=1646240355&sr=8-25'), ('sourcing map Eckenschutz Kantenschutz Abdeckung Metall Box Silber Ton 22 x 22 x 22mm-8St', 'Mapa źródeł ochraniacz narożny osłona krawędzi pokrywa metalowe pudełko srebrny odcień 22x22x22mm-8 sztuk', '8.99\\xa0', '4.4', '8', 'https://amazon.de/sourcing-map-Eckenschutz-Kantenschutz-Abdeckung/dp/B07Z7WSBZK/ref=sr_1_26?keywords=m%C3%B6belzubeh%C3%B6r+metall&qid=1646240355&sr=8-26'), ('SHUIOG 4 Stück Metall Möbelfüße Schwarz 15cm Tv Lowboard Möbelfüsse, Schrankfüße, DIY Tischbeine für Schrank, TV-Schränke, Schubladen, Nachttisch (15cm, Black)', 'SHUIOG 4 szt. Metalowe nóżki meblowe Czarne 15cm Tv Lowboard nóżki meblowe, nóżki szafki, DIY nogi stołowe do szafki, szafki pod telewizor, szuflady, stolik nocny (15cm, czarny)', '28.99\\xa0', '4.6', '10', 'https://amazon.de/SHUIOG-M%C3%B6belf%C3%BCsse-Schrankf%C3%BC%C3%9Fe-Tischbeine-TV-Schr%C3%A4nke/dp/B09BCB52X8/ref=sr_1_27?keywords=m%C3%B6belzubeh%C3%B6r+metall&qid=1646240355&sr=8-27'), ('Lospitch 4X Haarnadel Tischbeine Hairpin Legs 40cm 2-Stange Möbelfüße Metall Tischkufen Tischgestell Haarnadelbeine Möbelbein Austauschbare für Esstisch', 'Lospitch 4X szpilka nogi do stołu szpilka nogi 40cm 2-barowe nóżki do mebli metalowe bieżniki rama stołu szpilka nogi noga meblowa wymienne na stół', '23.99\\xa0', '5.0', '1', 'https://amazon.de/Lospitch-Tischbeine-Tischgestell-Haarnadelbeine-Austauschbare/dp/B09JC47SP5/ref=sr_1_28?keywords=m%C3%B6belzubeh%C3%B6r+metall&qid=1646240355&sr=8-28'), ('4 Stücke Metall Schwarz Möbelfüsse, DIY Metall Tischbeine, Möbel Stützbeine, Ersatz Möbelfüße Metall, DIY Möbel Füße, mit 16 Schrauben, für Sofa, Couchtisch, TV-Schrank, Bett, Möbel', '4 szt. Metalowe czarne nóżki do mebli DIY metalowe nogi stołowe Nogi do mebli Wymiana nóżek do mebli Metalowe nóżki do mebli DIY z 16 śrubami do sofy Stolik kawowy Szafka pod telewizor Meble do łóżek', '28.89\\xa0', '', '', 'https://amazon.de/gp/slredirect/picassoRedirect.html/ref=pa_sp_mtf_aps_sr_pg1_1?ie=UTF8&adId=A0421876CYOSQ9AQEOOE&url=%2FM%25C3%25B6belf%25C3%25BCsse-Tischbeine-St%25C3%25BCtzbeine-Couchtisch-TV-Schrank%2Fdp%2FB09MLQBN5Q%2Fref%3Dsr_1_29_sspa%3Fkeywords%3Dm%25C3%25B6belzubeh%25C3%25B6r%2Bmetall%26qid%3D1646240355%26sr%3D8-29-spons%26psc%3D1&qualifier=1646240355&id=2154051067851759&widgetName=sp_mtf'), ('sourcing map Metallbox Eckenschutz Kantenabdeckung Kantenschutz 20 x 20 x 20mm-8St', 'Mapa źródeł Metal Box Ochrona narożników Osłona krawędzi Ochrona krawędzi 20 x 20 x 20 mm-8 sztuk', '5.49\\xa0', '', '', 'https://amazon.de/gp/slredirect/picassoRedirect.html/ref=pa_sp_mtf_aps_sr_pg1_1?ie=UTF8&adId=A0416479UEX0ZTO6KT5P&url=%2Fsourcing-map-Eckenschutz-Kantenabdeckung-Kantenschutz%2Fdp%2FB07Z7WRZ2K%2Fref%3Dsr_1_30_sspa%3Fkeywords%3Dm%25C3%25B6belzubeh%25C3%25B6r%2Bmetall%26qid%3D1646240355%26sr%3D8-30-spons%26psc%3D1%26smid%3DAQ1IBDB6G2RRD&qualifier=1646240355&id=2154051067851759&widgetName=sp_mtf'), ('sourcing map 10pcs Box Tisch Kasten Metall Kantenschutz Winkel Klammern Eckenschutz Metall Silberton 28x28mm de', 'Mapa zaopatrzenia 10 sztuk pudełko na stół metalowe ochraniacze narożne kątowniki ochraniacze narożne metalowe srebrne Tone 28x28mm de', '10.49\\xa0', '4.2', '6', 'https://amazon.de/gp/slredirect/picassoRedirect.html/ref=pa_sp_mtf_aps_sr_pg1_1?ie=UTF8&adId=A01270562W1L7LZDBDRY1&url=%2Fsourcing-map-Kantenschutz-Klammern-Silberton%2Fdp%2FB01MSSXNGK%2Fref%3Dsr_1_31_sspa%3Fkeywords%3Dm%25C3%25B6belzubeh%25C3%25B6r%2Bmetall%26qid%3D1646240355%26sr%3D8-31-spons%26psc%3D1%26smid%3DAQ1IBDB6G2RRD&qualifier=1646240355&id=2154051067851759&widgetName=sp_mtf'), ('SHEENO 4 Stück Metalldreieck Möbel Füße,4 inch 10cm Möbel Tischbeine,Füße für Sofas und Sessel,Ersatz Dreieck Schrank Füße für Schrank, Sofa, Stuhl, Couchtisch mit Schrauben', 'SHEENO 4 szt. Metalowe trójkątne nóżki meblowe, 4 cale 10 cm nogi do stołu meblowego, nóżki do sof i foteli, wymienne trójkątne nóżki do szafki do szafki, sofy, krzesła, stolika kawowego ze śrubami', '16.49\\xa0', '1.0', '1', 'https://amazon.de/gp/slredirect/picassoRedirect.html/ref=pa_sp_mtf_aps_sr_pg1_1?ie=UTF8&adId=A05849722M91LDTW38IGD&url=%2FSHEENO-Metalldreieck-Tischbeine-Couchtisch-Schrauben%2Fdp%2FB09HH4DWL1%2Fref%3Dsr_1_32_sspa%3Fkeywords%3Dm%25C3%25B6belzubeh%25C3%25B6r%2Bmetall%26qid%3D1646240355%26sr%3D8-32-spons%26psc%3D1&qualifier=1646240355&id=2154051067851759&widgetName=sp_mtf'), ('Lospitch 4 Stück Haarnadel Tischbeine 30cm, Hairpin Legs Metall Schwarz Haarnadel Tischbein, Austauschbare Möbel DIY-Projekt, Möbelfüße, Couchtisch Füße, TV-Schränke, Schubladen, Nachttisch', 'Lospitch 4 szt. Szpilka do stołu Nogi do włosów 30 cm, Szpilka do włosów Metalowa czarna Szpilka do stołu Noga do stołu, wymienne meble Projekt DIY, nóżki meblowe, nóżki do stolika, szafki pod telewizor, szuflady, stolik nocny', '25.50\\xa0', '4.5', '2', 'https://amazon.de/Lospitch-Tischbeine-Austauschbare-DIY-Projekt-TV-Schr%C3%A4nke/dp/B09JWD8CR1/ref=sr_1_33?keywords=m%C3%B6belzubeh%C3%B6r+metall&qid=1646240355&sr=8-33'), ('JOLIGAEA 4 Stück Möbelfüße Schwarz Metall, Belastbar Bis 800 KG, 15cm Tv Lowboard Möbelfüsse, Schrankfüße für Schrank, TV-Schränke, Schubladen, Nachttisch, Mit Schrauben', 'JOLIGAEA 4-częściowe nóżki meblowe czarny metal, ładowność do 800 kg, 15 cm nóżki meblowe do szafek pod telewizor, nóżki do szafek, szafki TV, szuflady, stolik nocny, ze śrubami', '18.99\\xa0', '4.5', '156', 'https://amazon.de/JOLIGAEA-M%C3%B6belf%C3%BCsse-Schrankf%C3%BC%C3%9Fe-Tischbeine-TV-Schr%C3%A4nke/dp/B08N6N997V/ref=sr_1_34?keywords=m%C3%B6belzubeh%C3%B6r+metall&qid=1646240355&sr=8-34'), ('4 Stück Möbelfüße Eisen Konisch Möbelbeine Schräge Tischbeine Tischbeine Schrankbeine Sofafuss Sockelfuß Metall DIY Möbel Tischgestell Möbelfüsse für Couchtisch Schränke Möbel Sofas (20 cm, Schwarz)', '4 sztuki Nóżki meblowe Żelazne stożkowe nogi meblowe Pochyłe nogi do stołu Nogi do stołu Nogi do szafek Stopy sofy Stopy podstawy Metalowe meble do majsterkowania Rama stołu Nóżki meblowe do szafek stolikowych Sofy meblowe (20 cm, czarny)', '27.99\\xa0', '4.6', '6', 'https://amazon.de/M%C3%B6belbeine-Tischbeine-Schrankbeine-Tischgestell-M%C3%B6belf%C3%BCsse/dp/B099F35SBF/ref=sr_1_36?keywords=m%C3%B6belzubeh%C3%B6r+metall&qid=1646240355&sr=8-36'), ('Möbelfüße Schwarz, JXUN 4 Stück Füße für Möbel, Möbelfüße Metall Mit Schrauben möbelfuß für Schrank, Sofa, Tische Furniture Legs', 'Nóżki meblowe czarne, JXUN 4 sztuki Nóżki meblowe, metalowe nóżki meblowe ze śrubami, nóżki meblowe do szafki, sofa, stoły Nogi meblowe', '15.99\\xa0', '', '', 'https://amazon.de/M%C3%B6belf%C3%BC%C3%9Fe-JXUN-Schrauben-m%C3%B6belfu%C3%9F-Furniture/dp/B09LD1V1HB/ref=sr_1_37?keywords=m%C3%B6belzubeh%C3%B6r+metall&qid=1646240355&sr=8-37'), (\"Einfeben 3 Stange Haarnadel Tischbeine, 4 Set Vintage und Industrial Look Hairpin Legs, Metall Möbelfüße Mit Bodenschoner, 35cm/14'' Höhe für Couchtische, Moderne Schreibtische, Nachtständer Stühle\", \"Einfeben 3 nogi spinki do włosów, 4 zestawy vintage i industrialne nogi spinki do włosów, metalowe nóżki meblowe z ochraniaczami na podłogę, wysokość 35 cm / 14 '' na stoliki kawowe, nowoczesne biurka, krzesła nocne\", '34.99\\xa0', '4.3', '23', 'https://amazon.de/Einfeben-Bodenschoner-Couchtische-Schreibtische-Nachtst%C3%A4nder/dp/B09F3K52BY/ref=sr_1_38?keywords=m%C3%B6belzubeh%C3%B6r+metall&qid=1646240355&sr=8-38'), ('Alusfera Metall Tischbeine Höhenverstellbar Verstellbare Möbelfuss Sofafuss Sockelfuss Aluminium Profil 4 Stück 40x40mm (150 MM, Schwarz), 4x40x40x150', 'Alusfera Metalowe nogi stołowe z regulacją wysokości Nóżki meblowe Noga sofy Podstawa nogi Profil aluminiowy 4 sztuki 40x40mm (150MM, czarny), 4x40x40x150', '37.45\\xa0', '3.7', '7', 'https://amazon.de/M%C3%B6belf%C3%BC%C3%9Fe-Tischbeine-H%C3%B6henverstellbar-Verstellbare-Sockelfuss/dp/B085DVXDLJ/ref=sr_1_39?keywords=m%C3%B6belzubeh%C3%B6r+metall&qid=1646240355&sr=8-39'), ('4 Stück 50 x 50 mm verstellbare Stützfüße für Möbel, Küchenschränke, Edelstahl, runde Schrankfüße', '4 szt. Regulowane nóżki 50 mm x 50 mm do mebli Szafki kuchenne Okrągłe nogi do szafek ze stali nierdzewnej', '11.99\\xa0', '4.5', '902', 'https://amazon.de/Verstellbare-M%C3%B6belf%C3%BC%C3%9Fe-Arbeitsplatte-Schreibtisch-Tischbeine/dp/B0753G5D9W/ref=sr_1_40?keywords=m%C3%B6belzubeh%C3%B6r+metall&qid=1646240355&sr=8-40'), ('4 STK Möbelfüße Schwarz,6\"/15cm Ersatz Möbelfüße Metall,Möbelfüsse,Möbelbeine,Tischbeine,Schrankbeine,Schrankfüsse,für DIY Stühle,Schrank,Sofa,Andere Möbel', '4 szt. Nóżki meblowe czarne, 6\"/15 cm wymienne nóżki meblowe metalowe, nóżki meblowe, nogi meblowe, nogi stołowe, nogi do szafek, nóżki do szafek, do krzeseł DIY, szafy, sofy, innych mebli', '24.99\\xa0', '5.0', '4', 'https://amazon.de/M%C3%B6belf%C3%BCsse-M%C3%B6belbeine-Tischbeine-Schrankbeine-Schrankf%C3%BCsse/dp/B09CL57MCJ/ref=sr_1_41?keywords=m%C3%B6belzubeh%C3%B6r+metall&qid=1646240355&sr=8-41'), ('Möbelfüße Schwarze Metall, mit Schrauben, Möbelfüße Eisen Konisch Möbelbeine Für Schrank Sofa Stuhl Couchtisch Tische Schränke 4 Stück (higth 25cm/9.8in,vertical)', 'Nóżki meblowe Czarny metal, ze śrubami, Nóżki meblowe Żelazne stożkowe nogi meblowe do szafki Sofa Krzesło Stolik kawowy Szafy 4 sztuki (wysokość 25 cm / 9,8 cala, pionowe)', '20.80\\xa0', '', '', 'https://amazon.de/M%C3%B6belf%C3%BC%C3%9Fe-Schwarze-Schrauben-M%C3%B6belbeine-Couchtisch/dp/B09PQMNTY3/ref=sr_1_42?keywords=m%C3%B6belzubeh%C3%B6r+metall&qid=1646240355&sr=8-42'), ('Rybtd Verstellschraube 20 Stück Metall Möbelfüße Verstellbar M8 x 40 mm Möbelschraube Stellfuß mit Einschlagmutter Regulierschraube Justierschraube mit Metallbohrern für Möbelbeine', 'Śruba regulacyjna Rybtd 20 szt. Metalowe nóżki meblowe Regulowana śruba meblowa M8 x 40mm Śruba regulacyjna z nakrętką wbijaną Śruba regulacyjna Śruba regulacyjna z metalowymi wiertłami do nóżek mebli', '14.74\\xa0', '4.4', '97', 'https://amazon.de/Rybtd-Verstellschraube-Einschlagmutter-Regulierschraube-Justierschraube/dp/B08P1HTK1S/ref=sr_1_43?keywords=m%C3%B6belzubeh%C3%B6r+metall&qid=1646240355&sr=8-43'), ('ECD Germany 2X Tischbeine aus Vierkantprofilen 80x40 mm, Tischgestell 40 x 43 cm, Grau, pulverbeschichtete Stahl, Industriedesign, Metall Tischuntergestell Möbelfüße, für Esstisch Schreibtisch', 'ECD Germany 2X nogi stołu z profili kwadratowych 80x40 mm, rama stołu 40 x 43 cm, szara, stal malowana proszkowo, wzornictwo przemysłowe, metalowa podstawa stołu nóżki meblowe, do stołu jadalnego biurko', '47.99\\xa0', '3.9', '406', 'https://amazon.de/ECD-Germany-Vierkantprofilen-pulverbeschichtete-Tischuntergestell/dp/B096XV99QL/ref=sr_1_44?keywords=m%C3%B6belzubeh%C3%B6r+metall&qid=1646240355&sr=8-44'), ('Klapptischbeine, 12INCH/30cm Metall Zusammenklappbar Haarnadel-Beine, für Couchtisch, Stuhl, Bank, Schreibtisch, Nachttisch, einfache Installation (1 Set mit 4 Stück)', 'Składane nogi do stołu, 12 cali/30 cm metalowe składane spinki do włosów na stolik krzesło ławka biurko nocna łatwa instalacja (1 zestaw 4 sztuk)', '19.99\\xa0', '3.7', '8', 'https://amazon.de/Klapptischbeine-zusammenklappbar-Haarnadel-Beine-Schreibtisch-Installation/dp/B08RYJC691/ref=sr_1_45?keywords=m%C3%B6belzubeh%C3%B6r+metall&qid=1646240355&sr=8-45'), ('Drenky 4 Stück Haarnadel Tischbeine Hairpin legs Tischbeine Metall Schwarz Haarnadel Tischbein Beine 4 Zoll DIY Möbelfüße Metall Couchtisch Füße Perfekt für Möbel DIY-Projekt', 'Drenky 4 szt. Szpilka nogi do stołu Szpilka nogi metalowa czarna szpilka nogi do stołu 4 Cal DIY nóżki do mebli metalowe nóżki do stolika idealne do mebli projekt DIY', '25.99\\xa0', '4.7', '788', 'https://amazon.de/Tischbeine-Kleiderschrank-TV-Schr%C3%A4nke-Schubladen-Drenky/dp/B07R877JSR/ref=sr_1_48?keywords=m%C3%B6belzubeh%C3%B6r+metall&qid=1646240355&sr=8-48'), ('4 Stück Schwarz Möbelfüße, 5\" / 13cm Möbelfüße Metall Schrankfüße DIY Tischbeine Schrankfüsse, für Stühle Schrank und Sofa andere Möbelbeine. (15cm, Silver)', '4 szt. Czarne nóżki meblowe, 5\"/13 cm nóżki meblowe Metalowe nóżki do szafek Zrób to sam Nogi do stołu Nóżki do szafek, na krzesła Szafka i sofa Inne nogi meblowe. (15 cm, srebrne)', '26.89\\xa0', '4.8', '20', 'https://amazon.de/M%C3%B6belf%C3%BC%C3%9Fe-Schrankf%C3%BC%C3%9Fe-Tischbeine-Schrankf%C3%BCsse-M%C3%B6belbeine/dp/B095JT2ZYJ/ref=sr_1_49?keywords=m%C3%B6belzubeh%C3%B6r+metall&qid=1646240355&sr=8-49'), ('Lospitch Hairpin Legs tischbeine Metall schwarz Tischkufen Haarnadel Tischbein 12 mm, Hairpin Legs aus Stahl, 3-Stange Bein, 15 cm 4 Stück', 'Lospitch szpilka nogi nogi do stołu metalowy czarny stół płozy szpilka noga stołu 12mm stalowe szpilka nogi 3-Bar noga 15cm 4 sztuk', '21.99\\xa0', '4.5', '14', 'https://amazon.de/Lospitch-tischbeine-Tischkufen-Haarnadel-Tischbein/dp/B09HRWVXW1/ref=sr_1_50?keywords=m%C3%B6belzubeh%C3%B6r+metall&qid=1646240355&sr=8-50'), ('Drenky 4 Stück Möbelfüße Metall Tischbeine Metall 35cm Rund Edelstahl Gebürstet möbelfüße verstellbar Tischbeine Höhenverstellbar Gesamthöhe 350mm-365mm Kommen Mit Edelstahlschrauben für Möbel Projekt', 'Drenky 4 sztuki Nóżki meblowe Metalowe nogi stołowe Metal 35 cm Okrągłe, szczotkowane nóżki meblowe ze stali nierdzewnej Regulowane nogi stołowe Regulowana wysokość Całkowita wysokość 350 mm-365 mm W zestawie śruby ze stali nierdzewnej do projektu meblowego', '33.99\\xa0', '3.5', '2', 'https://amazon.de/Drenky-35cm-verstellbar-H%C3%B6henverstellbar-Edelstahlschrauben/dp/B09L832WCR/ref=sr_1_51?keywords=m%C3%B6belzubeh%C3%B6r+metall&qid=1646240355&sr=8-51'), ('4 Stück 13cm Möbelfüße Schwarz Metall, Ersatz Schrankfüsse, DIY Möbelbeine Geeignet für Couchtisch,TV-Schrank,Sofa füße,Bett und andere Tischbeine, mit Schrauben (13cm, Black)', '4 sztuki 13 cm nóżki do mebli czarny metal, zapasowe nóżki do szafek, nóżki do mebli DIY odpowiednie do stolika kawowego, szafki telewizyjnej, nóżek sofy, łóżka i innych nóg stołowych, ze śrubami (13 cm, czarny)', '17.61\\xa0', '4.0', '2', 'https://amazon.de/Schrankf%C3%BCsse-M%C3%B6belbeine-Couchtisch-TV-Schrank-Tischbeine/dp/B09HPVR5G7/ref=sr_1_52?keywords=m%C3%B6belzubeh%C3%B6r+metall&qid=1646240355&sr=8-52'), ('Möbelfüße Sofafuss Kippen Tischbeine Schrankbeine Sockelfuß Metallbeine Für Möbel Konisch Schräg Möbelbeine Schwarz Möbelfüsse Metall Füße Für Schrank Sofa Stuhl Couchtisch Tische Schränke 4 Stück', 'Nóżki meblowe Nóżki sofy Uchylne nogi do stołu Nogi do szafek Nóżki na postumentach Metalowe nogi do mebli Stożkowe Pochyłe nogi meblowe Czarne nóżki do mebli Metalowe nóżki do szafki Sofa Krzesło Stolik kawowy Stoliki Szafki Zestaw 4 szt.', '23.99\\xa0', '4.7', '8', 'https://amazon.de/Tischbeine-Schrankbeine-Metallbeine-M%C3%B6belbeine-M%C3%B6belf%C3%BCsse/dp/B092V6B7LR/ref=sr_1_53?keywords=m%C3%B6belzubeh%C3%B6r+metall&qid=1646240355&sr=8-53'), ('4X Tischbeine Möbelfüße Metall Haarnadel Haarnadelbeine Möbelbein Hairpin Legs Austauschbare Tisch &Schrank Beine 490 mm Schwarz (18 Zoll)', '4X Nogi do stołu Nóżki do mebli Metalowa szpilka do włosów Nogi meblowe Nogi do szpilek Wymienne nogi do stołu i szafki 490mm Czarny (18 cali)', '40.99\\xa0', '4.7', '5', 'https://amazon.de/Tischbeine-M%C3%B6belf%C3%BC%C3%9Fe-Haarnadel-Haarnadelbeine-Austauschbare/dp/B08XLT3C2L/ref=sr_1_54?keywords=m%C3%B6belzubeh%C3%B6r+metall&qid=1646240355&sr=8-54'), ('Kukicu Möbelfüße Weiß - Beine für Möbel - 4er Set - Höhe: 100mm - Vierkant-Profil: 40 x 40 mm - Schrauben Inklusive', 'Nóżki meblowe Kukicu białe - nogi do mebli - zestaw 4 szt. - wysokość: 100mm - profil kwadratowy: 40 x 40 mm - wkręty w komplecie', '11.95\\xa0', '4.2', '49', 'https://amazon.de/Kukicu-M%C3%B6belf%C3%BC%C3%9Fe-Farbneutrales-Vierkant-Profil-Schrauben/dp/B097PMY4WG/ref=sr_1_55?keywords=m%C3%B6belzubeh%C3%B6r+metall&qid=1646240355&sr=8-55'), ('Metafranc Möbelgleiter Ø 20 mm - Metall - Mit Nagel & Puffer - 8 Stück - Für ein leichtes Verschieben Ihrer Möbel / Möbelgleiter-Set für unempfindliche Böden / Stuhlgleiter / Bodengleiter / 644546', 'Ślizgi meblowe Metafranc Ø 20 mm - metalowe - z gwoździem i zderzakiem - 8 sztuk - do łatwego przenoszenia mebli / zestaw prowadnic do mebli do niewrażliwych podłóg / prowadnice krzeseł / prowadnice podłogowe / 644546', '3.29\\xa0', '4.5', '77', 'https://amazon.de/Meister-M%C3%B6belgleiter-Metall-Puffer-644546/dp/B01NBQY2P2/ref=sr_1_56?keywords=m%C3%B6belzubeh%C3%B6r+metall&qid=1646240355&sr=8-56'), ('Drenky 12 Möbelrichtmaschinen, mittelgroße Möbel mit männlichem Gewinde, Nivellierfüße mit T-Muttern und Muttern, geräuscharme rutschfeste Kunststoffbasis für Holzmöbelfüße (M8x30mm)', 'Drenky 12 niwelatorów meblowych, średnie nóżki do mebli z gwintem zewnętrznym z nakrętkami i nakrętkami T, antypoślizgowa plastikowa podstawa o niskim poziomie hałasu do drewnianych nóżek meblowych (M8x30mm)', '17.99\\xa0', '4.4', '93', 'https://amazon.de/gp/slredirect/picassoRedirect.html/ref=pa_sp_btf_aps_sr_pg1_1?ie=UTF8&adId=A1015132AV7W2EPVBO&url=%2FDrenky-M%25C3%25B6belrichtmaschinen-Au%25C3%259Fengewinde-Stellf%25C3%25BC%25C3%259Fe-Holzm%25C3%25B6belbeine%2Fdp%2FB07TPLKQ9J%2Fref%3Dsr_1_57_sspa%3Fkeywords%3Dm%25C3%25B6belzubeh%25C3%25B6r%2Bmetall%26qid%3D1646240355%26sr%3D8-57-spons%26psc%3D1&qualifier=1646240355&id=2154051067851759&widgetName=sp_btf'), ('DUQZ 4 Stück Ersatz Möbelfüße Schwarz Metall, 6\" / 15cm Tv Lowboard Möbelfüsse DIY Möbel Füße Tischbeine Schrankfüße Bett für Stühle Schrank und Sofa Möbelbeine', 'DUQZ 4 sztuki Wymienne nóżki do mebli Czarny metal, 6 \"/15 cm Tv Lowboard nóżki do mebli DIY nóżki do mebli Nogi do stołu nóżki do szafki łóżko na krzesła szafka i sofa nóżki do mebli', '27.38\\xa0', '4.4', '30', 'https://amazon.de/gp/slredirect/picassoRedirect.html/ref=pa_sp_btf_aps_sr_pg1_1?ie=UTF8&adId=A08902162789T4DFNKL43&url=%2FM%25C3%25B6belf%25C3%25BC%25C3%259Fe-M%25C3%25B6belf%25C3%25BCsse-Tischbeine-Schrankf%25C3%25BC%25C3%259Fe-M%25C3%25B6belbeine%2Fdp%2FB094R7X2S7%2Fref%3Dsr_1_58_sspa%3Fkeywords%3Dm%25C3%25B6belzubeh%25C3%25B6r%2Bmetall%26qid%3D1646240355%26sr%3D8-58-spons%26psc%3D1&qualifier=1646240355&id=2154051067851759&widgetName=sp_btf'), ('Housweety 100 - Libro/quaderno/menue/decorazione per Album, 32 x 23 mm', 'Housweety 100 - Libro/quaderno/menue/decorazione na album, 32 x 23 mm', '9.99\\xa0', '4.4', '134', 'https://amazon.de/gp/slredirect/picassoRedirect.html/ref=pa_sp_btf_aps_sr_pg1_1?ie=UTF8&adId=A0925783DBHR3MM4M7HL&url=%2FHOUSWEETY-Silberfarbe-Albumschmuck-Pfleger-32x23mm%2Fdp%2FB00FVTI69W%2Fref%3Dsr_1_59_sspa%3Fkeywords%3Dm%25C3%25B6belzubeh%25C3%25B6r%2Bmetall%26qid%3D1646240355%26sr%3D8-59-spons%26psc%3D1&qualifier=1646240355&id=2154051067851759&widgetName=sp_btf'), ('WANLIAN Kopfteil-Stabilisatoren, Kopfteil-Stopper, Bettgestell-Halter, verstellbarer Gewinde-Bettrahmen, Anti-Schüttel-Werkzeug, verstellbar von 3,8 cm - 11,4 cm, Schwarz, 4 Stück', 'WANLIAN Zagłówek Stabilizatory Zagłówek Korki Uchwyt łóżka Regulowana rama łóżka z gwintem Narzędzie przeciwwstrząsowe Regulowane od 1,5 \"-4,5\" Czarny 4 szt.', '19.99\\xa0', '4.1', '15', 'https://amazon.de/gp/slredirect/picassoRedirect.html/ref=pa_sp_btf_aps_sr_pg1_1?ie=UTF8&adId=A038116025BAS6L0QCX43&url=%2FWANLIAN-Kopfteil-Stabilisatoren-Bettgestell-Halter-Gewinde-Bettrahmen-Anti-Sch%25C3%25BCttel-Werkzeug%2Fdp%2FB098KSQTYH%2Fref%3Dsr_1_60_sspa%3Fkeywords%3Dm%25C3%25B6belzubeh%25C3%25B6r%2Bmetall%26qid%3D1646240355%26sr%3D8-60-spons%26psc%3D1&qualifier=1646240355&id=2154051067851759&widgetName=sp_btf')]\n"
     ]
    }
   ],
   "source": [
    "records = []\n",
    "\n",
    "for item in results:\n",
    "    record = (extract_record(item))\n",
    "    if record:\n",
    "        records.append(record)\n",
    "    \n",
    "print(records)"
   ]
  },
  {
   "cell_type": "code",
   "execution_count": 16,
   "id": "ae2e1ae6",
   "metadata": {},
   "outputs": [
    {
     "data": {
      "text/plain": [
       "('4 Stück Möbelfüße, Möbelfüsse aus Edelstahl 304, Für Schrankfüße Bett Beine/Sofa Beine/Tischbeine, Verwenden Sie M8-Schrauben, Unterstützung über 600 kg. (7.8cm)',\n",
       " '4-częściowe nóżki meblowe, 304 nóżki meblowe ze stali nierdzewnej, do nóżek szafki nogi łóżka/nogi sofy/nogi stołu, użyj śrub M8, wsparcie ponad 600 kg. (7,8cm)',\n",
       " '29.99\\xa0',\n",
       " '4.6',\n",
       " '50',\n",
       " 'https://amazon.de/gp/slredirect/picassoRedirect.html/ref=pa_sp_atf_aps_sr_pg1_1?ie=UTF8&adId=A02632421WPOZIXV36LYZ&url=%2FCXPDC-M%25C3%25B6belf%25C3%25BC%25C3%259Fe-M%25C3%25B6belbeine-h%25C3%25B6henverstellbare-Bolzenunterst%25C3%25BCtzungskraft%2Fdp%2FB07V4Y3T1C%2Fref%3Dsr_1_1_sspa%3Fkeywords%3Dm%25C3%25B6belzubeh%25C3%25B6r%2Bmetall%26qid%3D1646240355%26sr%3D8-1-spons%26psc%3D1&qualifier=1646240355&id=2154051067851759&widgetName=sp_atf')"
      ]
     },
     "execution_count": 16,
     "metadata": {},
     "output_type": "execute_result"
    }
   ],
   "source": [
    "records[0]"
   ]
  },
  {
   "cell_type": "code",
   "execution_count": 17,
   "id": "91ac3326",
   "metadata": {},
   "outputs": [
    {
     "name": "stdout",
     "output_type": "stream",
     "text": [
      "4-częściowe nóżki meblowe, 304 nóżki meblowe ze stali nierdzewnej, do nóżek szafki nogi łóżka/nogi sofy/nogi stołu, użyj śrub M8, wsparcie ponad 600 kg. (7,8cm)\n",
      "4 szt. Wymienne nóżki meblowe Regulowane stopy aluminiowe 10 cm metalowe nóżki czarne nóżki do szafek nóżki do mebli, metalowe nóżki do łóżka nóżki sofy i nogi do stołu nóżki do szafki nogi do stołu. (10cm, czarny)\n",
      "Drenky 4-pak skośne nogi stołowe, metalowe nogi szafki, stożkowe nogi meblowe, stal nierdzewna 201, złota, wysokość 40 cm, antypoślizgowa cicha podstawa do sof, stołów i innych nóg meblowych\n",
      "ToPicks nóżki meblowe regulowane metalowe, nogi stołowe ze stali nierdzewnej, nóżki meblowe z regulacją wysokości okrągłe stalowe nóżki rurowe sprężyste czarne, 6 cm 4 sztuki ze śrubami\n",
      "DELSEN M8 regulowane nóżki do mebli nóżki poziomujące z nakrętkami wbijanymi metalowe prowadnice meblowe ze stali nierdzewnej do mebli sofa stół nogi do krzeseł\n",
      "bieżniki Relaxdays, 2 sztuki, szer. x wys.: 40x43 cm, metalowe nogi stołu, biurko, stół jadalny, stolik kawowy, industrialny, czarny, 40 x 43 cm\n",
      "Baven 24 szt. 25MM Zabytkowe narożniki meblowe Okucia metalowe Antyczny styl Vintage Metalowe narożniki ochronne do mebli, szkatułki na biżuterię, pudełka na prezenty, szafki, śrub w zestawie\n",
      "Antyczna ochrona narożników Fahibin, metalowa ochrona narożników mebli z gwoździami, zabezpieczenie krawędzi okucia meblowego antyczna skrzynia na półki na meble\n",
      "JUNMEIDO 4 szt. Nóżki meblowe Regulowane nóżki wsporcze Regulowana wysokość nóżki cokołu Metalowe nóżki do półek Czarne na stojak pod telewizor, sofę meblową, wsporniki szafek łazienkowych\n",
      "ECD Germany 2x nogi stołu X-Design X-shape, 60 x 72 cm, ciemnoszary, stal malowana proszkowo, wzornictwo przemysłowe, metalowe bieżniki podstawa stołu rama stołu nóżki meblowe, do stołu jadalnego biurko\n",
      "7 \"/17.5 cm metalowe nóżki do mebli, La Vane 4 szt. Metalowe diamentowe trójkątne nogi do stołu nóżki do szafki DIY zamiennik do szafki Sofa półka na kanapę Ottoman\n",
      "Skarpety meblowe Ezprotekt, 24 sztuki, dziane nóżki meblowe, ochraniacze na nogi krzeseł, nogi krzeseł, antypoślizgowe buty meblowe, unikanie zadrapań i hałasu, pasuje do nóg krzeseł 1-2 cale, khaki\n",
      "Bieżniki metalowa rama stołu czarny design przemysłowy 2 sztuka nogi stołu nóżki do mebli dla majsterkowiczów stół jadalny biurko stolik ławka\n",
      "2x Ariana Home - bieżniki - nogi stołu rama stołu nóżki meblowe wykonane z metalu - (stolik kawowy stół jadalny biurko stół do salonu i inne meble) - 70x72 czarny\n",
      "Stopka meblowa Gedotec LISA stopka regulowana metalowa stopka regulowana ze stali | Wysokość 100mm | Nóżka sofy z regulacją wysokości + 20 mm | polerowany chrom | Zestaw 4 - Nóżki do komody o regulowanej wysokości z płytą\n",
      "8 szt. Regulowane nóżki ze stali nierdzewnej Regulowane nóżki do mebli nóżki meblowe Regulowane metalowe metalowe 5cm okrągłe, szczotkowane nóżki meblowe ze stali nierdzewnej dostarczane ze śrubami ze stali nierdzewnej do mebli\n",
      "Bieżniki Nogi do stołu Stelaż do stołu Metal Stopy do stołu Ręcznie wykonane 40 x 20 mm z metalu 1 sztuka. (40x43cm #E07254)\n",
      "6 sztuk nóżki meblowe, regulowane czarne nóżki do szafki, metalowe nogi do stołu, nogi sofy do łóżka, rozkładane nóżki do szafki, 92mm\n",
      "LIKERAINY nogi metalowe nogi stołu nóżki do mebli 50mm do mebli szafek nóżki kuchenne blat biurko śniadanie Sofa Bar biurko nóżki srebrny zestaw 4\n",
      "4 sztuki nóżek meblowych, wysokość 10 cm, skośne stożkowe nóżki meblowe, nóżki do mebli DIY, metalowe nóżki do sofy z plastikową gumową główką, na stolik kawowy, stół jadalny, biurko, stolik nocny (czarny)\n",
      "Dylan-EU 6 sztuk Antyczne lewe uchwyty do szafek ze śrubami Retro gałki meblowe Metalowa gałka do szuflady Akcesoria meblowe do drzwi komody Meble szafki - czerwony brązowy uchwyt z pojedynczym otworem\n",
      "EINFEBEN Nogi do spinek do włosów 3-drążkowe nogi stołowe metalowe czarne bieżniki spinka do włosów noga stołu 12 mm, nogi spinki do włosów wykonane ze stali, noga sztuk 4, 35 cm\n",
      "Qrity 120mm wysokość nóżki do mebli nóżki do szafki nóżki kuchenne ze stopu aluminium nóżki sofy metalowe nogi stołowe czarne\n",
      "Mapa źródeł ochraniacz narożny osłona krawędzi pokrywa metalowe pudełko srebrny odcień 22x22x22mm-8 sztuk\n",
      "SHUIOG 4 szt. Metalowe nóżki meblowe Czarne 15cm Tv Lowboard nóżki meblowe, nóżki szafki, DIY nogi stołowe do szafki, szafki pod telewizor, szuflady, stolik nocny (15cm, czarny)\n",
      "Lospitch 4X szpilka nogi do stołu szpilka nogi 40cm 2-barowe nóżki do mebli metalowe bieżniki rama stołu szpilka nogi noga meblowa wymienne na stół\n",
      "4 szt. Metalowe czarne nóżki do mebli DIY metalowe nogi stołowe Nogi do mebli Wymiana nóżek do mebli Metalowe nóżki do mebli DIY z 16 śrubami do sofy Stolik kawowy Szafka pod telewizor Meble do łóżek\n",
      "Mapa źródeł Metal Box Ochrona narożników Osłona krawędzi Ochrona krawędzi 20 x 20 x 20 mm-8 sztuk\n",
      "Mapa zaopatrzenia 10 sztuk pudełko na stół metalowe ochraniacze narożne kątowniki ochraniacze narożne metalowe srebrne Tone 28x28mm de\n",
      "SHEENO 4 szt. Metalowe trójkątne nóżki meblowe, 4 cale 10 cm nogi do stołu meblowego, nóżki do sof i foteli, wymienne trójkątne nóżki do szafki do szafki, sofy, krzesła, stolika kawowego ze śrubami\n",
      "Lospitch 4 szt. Szpilka do stołu Nogi do włosów 30 cm, Szpilka do włosów Metalowa czarna Szpilka do stołu Noga do stołu, wymienne meble Projekt DIY, nóżki meblowe, nóżki do stolika, szafki pod telewizor, szuflady, stolik nocny\n",
      "JOLIGAEA 4-częściowe nóżki meblowe czarny metal, ładowność do 800 kg, 15 cm nóżki meblowe do szafek pod telewizor, nóżki do szafek, szafki TV, szuflady, stolik nocny, ze śrubami\n",
      "4 sztuki Nóżki meblowe Żelazne stożkowe nogi meblowe Pochyłe nogi do stołu Nogi do stołu Nogi do szafek Stopy sofy Stopy podstawy Metalowe meble do majsterkowania Rama stołu Nóżki meblowe do szafek stolikowych Sofy meblowe (20 cm, czarny)\n",
      "Nóżki meblowe czarne, JXUN 4 sztuki Nóżki meblowe, metalowe nóżki meblowe ze śrubami, nóżki meblowe do szafki, sofa, stoły Nogi meblowe\n",
      "Einfeben 3 nogi spinki do włosów, 4 zestawy vintage i industrialne nogi spinki do włosów, metalowe nóżki meblowe z ochraniaczami na podłogę, wysokość 35 cm / 14 '' na stoliki kawowe, nowoczesne biurka, krzesła nocne\n",
      "Alusfera Metalowe nogi stołowe z regulacją wysokości Nóżki meblowe Noga sofy Podstawa nogi Profil aluminiowy 4 sztuki 40x40mm (150MM, czarny), 4x40x40x150\n",
      "4 szt. Regulowane nóżki 50 mm x 50 mm do mebli Szafki kuchenne Okrągłe nogi do szafek ze stali nierdzewnej\n",
      "4 szt. Nóżki meblowe czarne, 6\"/15 cm wymienne nóżki meblowe metalowe, nóżki meblowe, nogi meblowe, nogi stołowe, nogi do szafek, nóżki do szafek, do krzeseł DIY, szafy, sofy, innych mebli\n",
      "Nóżki meblowe Czarny metal, ze śrubami, Nóżki meblowe Żelazne stożkowe nogi meblowe do szafki Sofa Krzesło Stolik kawowy Szafy 4 sztuki (wysokość 25 cm / 9,8 cala, pionowe)\n",
      "Śruba regulacyjna Rybtd 20 szt. Metalowe nóżki meblowe Regulowana śruba meblowa M8 x 40mm Śruba regulacyjna z nakrętką wbijaną Śruba regulacyjna Śruba regulacyjna z metalowymi wiertłami do nóżek mebli\n",
      "ECD Germany 2X nogi stołu z profili kwadratowych 80x40 mm, rama stołu 40 x 43 cm, szara, stal malowana proszkowo, wzornictwo przemysłowe, metalowa podstawa stołu nóżki meblowe, do stołu jadalnego biurko\n",
      "Składane nogi do stołu, 12 cali/30 cm metalowe składane spinki do włosów na stolik krzesło ławka biurko nocna łatwa instalacja (1 zestaw 4 sztuk)\n",
      "Drenky 4 szt. Szpilka nogi do stołu Szpilka nogi metalowa czarna szpilka nogi do stołu 4 Cal DIY nóżki do mebli metalowe nóżki do stolika idealne do mebli projekt DIY\n",
      "4 szt. Czarne nóżki meblowe, 5\"/13 cm nóżki meblowe Metalowe nóżki do szafek Zrób to sam Nogi do stołu Nóżki do szafek, na krzesła Szafka i sofa Inne nogi meblowe. (15 cm, srebrne)\n",
      "Lospitch szpilka nogi nogi do stołu metalowy czarny stół płozy szpilka noga stołu 12mm stalowe szpilka nogi 3-Bar noga 15cm 4 sztuk\n",
      "Drenky 4 sztuki Nóżki meblowe Metalowe nogi stołowe Metal 35 cm Okrągłe, szczotkowane nóżki meblowe ze stali nierdzewnej Regulowane nogi stołowe Regulowana wysokość Całkowita wysokość 350 mm-365 mm W zestawie śruby ze stali nierdzewnej do projektu meblowego\n",
      "4 sztuki 13 cm nóżki do mebli czarny metal, zapasowe nóżki do szafek, nóżki do mebli DIY odpowiednie do stolika kawowego, szafki telewizyjnej, nóżek sofy, łóżka i innych nóg stołowych, ze śrubami (13 cm, czarny)\n",
      "Nóżki meblowe Nóżki sofy Uchylne nogi do stołu Nogi do szafek Nóżki na postumentach Metalowe nogi do mebli Stożkowe Pochyłe nogi meblowe Czarne nóżki do mebli Metalowe nóżki do szafki Sofa Krzesło Stolik kawowy Stoliki Szafki Zestaw 4 szt.\n",
      "4X Nogi do stołu Nóżki do mebli Metalowa szpilka do włosów Nogi meblowe Nogi do szpilek Wymienne nogi do stołu i szafki 490mm Czarny (18 cali)\n",
      "Nóżki meblowe Kukicu białe - nogi do mebli - zestaw 4 szt. - wysokość: 100mm - profil kwadratowy: 40 x 40 mm - wkręty w komplecie\n",
      "Ślizgi meblowe Metafranc Ø 20 mm - metalowe - z gwoździem i zderzakiem - 8 sztuk - do łatwego przenoszenia mebli / zestaw prowadnic do mebli do niewrażliwych podłóg / prowadnice krzeseł / prowadnice podłogowe / 644546\n",
      "Drenky 12 niwelatorów meblowych, średnie nóżki do mebli z gwintem zewnętrznym z nakrętkami i nakrętkami T, antypoślizgowa plastikowa podstawa o niskim poziomie hałasu do drewnianych nóżek meblowych (M8x30mm)\n",
      "DUQZ 4 sztuki Wymienne nóżki do mebli Czarny metal, 6 \"/15 cm Tv Lowboard nóżki do mebli DIY nóżki do mebli Nogi do stołu nóżki do szafki łóżko na krzesła szafka i sofa nóżki do mebli\n",
      "Housweety 100 - Libro/quaderno/menue/decorazione na album, 32 x 23 mm\n",
      "WANLIAN Zagłówek Stabilizatory Zagłówek Korki Uchwyt łóżka Regulowana rama łóżka z gwintem Narzędzie przeciwwstrząsowe Regulowane od 1,5 \"-4,5\" Czarny 4 szt.\n"
     ]
    }
   ],
   "source": [
    "for row in records:\n",
    "    print(row[1])"
   ]
  },
  {
   "cell_type": "code",
   "execution_count": 18,
   "id": "45b73107",
   "metadata": {},
   "outputs": [],
   "source": [
    "def get_url(search_term):\n",
    "    template = 'https://www.amazon.de/s?k={}&language=de_DE&ref=nb_sb_noss_1'\n",
    "    search_term = search_term.replace(' ','+')\n",
    "    return template.format(search_term)\n",
    "\n",
    "    url+='&page{}'\n",
    "\n",
    "    return url\n",
    "\n",
    "def extract_record(item):\n",
    "    atag = item.h2.a\n",
    "    description = atag.text.strip()\n",
    "    to_translate = description\n",
    "    translation = GoogleTranslator(source='de', target='pl').translate(to_translate)\n",
    "    url = 'https://amazon.de' + atag.get('href')\n",
    "    \n",
    "    try:\n",
    "        price_parent = item.find('span', 'a-price')\n",
    "        price = price_parent.find('span','a-offscreen').text\n",
    "        price = price.replace('€','')\n",
    "        price = price.replace(',','.')\n",
    "        price = price.strip(' ')\n",
    "    except AttributeError:\n",
    "        return\n",
    "    \n",
    "    try:\n",
    "        rating = item.i.text\n",
    "        rating = rating.replace(' von 5 Sternen', '')\n",
    "        rating = rating.replace(',', '.')\n",
    "        review_count = item.find('span',{'class':'a-size-base s-underline-text'}).text\n",
    "    except AttributeError:\n",
    "        rating=''\n",
    "        review_count=''\n",
    "    \n",
    "    result = (description, translation, price, rating, review_count, url)\n",
    "    \n",
    "    return result\n",
    "\n",
    "def main(search_term):\n",
    "    record = []\n",
    "    url = get_url(search_term)\n",
    "    \n",
    "    for page in range(1, 7):\n",
    "        driver.get(url.format(page))\n",
    "        soup = BeautifulSoup(driver.page_source, 'html.parser')\n",
    "        results = soup.find_all('div', {'data-component-type': 's-search-result'})\n",
    "        \n",
    "        for item in results:\n",
    "            record = (extract_record(item))\n",
    "            if record:\n",
    "                records.append(record)\n",
    "            \n",
    "    driver.close()\n",
    "    \n",
    "    with open('results.csv', 'w', newline = '', encoding='utf-8') as f:\n",
    "        writer = csv.writer(f)\n",
    "        writer.writerow(['Title','Translation','Price','Rating','ReviewCount','Url'])\n",
    "        writer.writerows(records)"
   ]
  },
  {
   "cell_type": "code",
   "execution_count": 109,
   "id": "47489ab1",
   "metadata": {},
   "outputs": [],
   "source": [
    "main('möbelzubehör metall')"
   ]
  },
  {
   "cell_type": "code",
   "execution_count": 110,
   "id": "5ee7ff6f",
   "metadata": {},
   "outputs": [],
   "source": [
    "import pandas as pd\n",
    "\n",
    "df = pd.read_csv('results.csv')"
   ]
  },
  {
   "cell_type": "code",
   "execution_count": 111,
   "id": "fff8d888",
   "metadata": {},
   "outputs": [
    {
     "name": "stdout",
     "output_type": "stream",
     "text": [
      "                                               Title  \\\n",
      "0  2 x Bankgestell X-Gestell - Stahl Optik X8080 ...   \n",
      "1  SHEENO 4 Stück Metalldreieck Möbel Füße,4 inch...   \n",
      "2  4 Schwarz Metall Tischbeine DIY, Ersatz Möbelf...   \n",
      "3  4 Stück Ersatz Möbelfüße Metall, 6\" / 15cm Sch...   \n",
      "4  DELSEN M8 Verstellbare füße für Möbel Nivellie...   \n",
      "\n",
      "                                         Translation   Price  Rating  \\\n",
      "0   2 x rama ławki X rama - wygląd stali X8080 metal  99.99      4.2   \n",
      "1  SHEENO 4 szt. Metalowe trójkątne nóżki meblowe...  15.99      1.0   \n",
      "2  4 czarne metalowe nogi stołowe DIY wymienne nó...  41.99      NaN   \n",
      "3  4 szt. Zamienne metalowe nóżki meblowe, 6\"/15 ...  26.99      4.7   \n",
      "4  DELSEN M8 regulowane nóżki do mebli nóżki pozi...  13.99      4.1   \n",
      "\n",
      "   ReviewCount                                                Url  \n",
      "0         27.0  https://amazon.de/gp/slredirect/picassoRedirec...  \n",
      "1          1.0  https://amazon.de/gp/slredirect/picassoRedirec...  \n",
      "2          NaN  https://amazon.de/gp/slredirect/picassoRedirec...  \n",
      "3        186.0  https://amazon.de/gp/slredirect/picassoRedirec...  \n",
      "4         26.0  https://amazon.de/DELSEN-Verstellbare-Nivellie...  \n"
     ]
    }
   ],
   "source": [
    "print(df.head())"
   ]
  },
  {
   "cell_type": "code",
   "execution_count": null,
   "id": "093d39f3",
   "metadata": {},
   "outputs": [],
   "source": []
  },
  {
   "cell_type": "code",
   "execution_count": null,
   "id": "b1901f77",
   "metadata": {},
   "outputs": [],
   "source": []
  },
  {
   "cell_type": "code",
   "execution_count": null,
   "id": "19480926",
   "metadata": {},
   "outputs": [],
   "source": []
  }
 ],
 "metadata": {
  "kernelspec": {
   "display_name": "Python 3 (ipykernel)",
   "language": "python",
   "name": "python3"
  },
  "language_info": {
   "codemirror_mode": {
    "name": "ipython",
    "version": 3
   },
   "file_extension": ".py",
   "mimetype": "text/x-python",
   "name": "python",
   "nbconvert_exporter": "python",
   "pygments_lexer": "ipython3",
   "version": "3.9.7"
  }
 },
 "nbformat": 4,
 "nbformat_minor": 5
}
